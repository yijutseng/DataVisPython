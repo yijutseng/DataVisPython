{
 "cells": [
  {
   "cell_type": "code",
   "execution_count": 2,
   "metadata": {
    "slideshow": {
     "slide_type": "skip"
    }
   },
   "outputs": [
    {
     "name": "stdout",
     "output_type": "stream",
     "text": [
      "Requirement already satisfied: numpy in /Users/yjtseng/opt/anaconda3/lib/python3.7/site-packages (1.17.2)\n",
      "Requirement already satisfied: matplotlib in /Users/yjtseng/opt/anaconda3/lib/python3.7/site-packages (3.1.1)\n",
      "Requirement already satisfied: pandas in /Users/yjtseng/opt/anaconda3/lib/python3.7/site-packages (0.25.1)\n",
      "Requirement already satisfied: sklearn in /Users/yjtseng/opt/anaconda3/lib/python3.7/site-packages (0.0)\n",
      "Requirement already satisfied: seaborn in /Users/yjtseng/opt/anaconda3/lib/python3.7/site-packages (0.9.0)\n",
      "Requirement already satisfied: cycler>=0.10 in /Users/yjtseng/opt/anaconda3/lib/python3.7/site-packages (from matplotlib) (0.10.0)\n",
      "Requirement already satisfied: kiwisolver>=1.0.1 in /Users/yjtseng/opt/anaconda3/lib/python3.7/site-packages (from matplotlib) (1.1.0)\n",
      "Requirement already satisfied: pyparsing!=2.0.4,!=2.1.2,!=2.1.6,>=2.0.1 in /Users/yjtseng/opt/anaconda3/lib/python3.7/site-packages (from matplotlib) (2.4.2)\n",
      "Requirement already satisfied: python-dateutil>=2.1 in /Users/yjtseng/opt/anaconda3/lib/python3.7/site-packages (from matplotlib) (2.8.0)\n",
      "Requirement already satisfied: pytz>=2017.2 in /Users/yjtseng/opt/anaconda3/lib/python3.7/site-packages (from pandas) (2019.3)\n",
      "Requirement already satisfied: scikit-learn in /Users/yjtseng/opt/anaconda3/lib/python3.7/site-packages (from sklearn) (0.21.3)\n",
      "Requirement already satisfied: scipy>=0.14.0 in /Users/yjtseng/opt/anaconda3/lib/python3.7/site-packages (from seaborn) (1.3.1)\n",
      "Requirement already satisfied: six in /Users/yjtseng/opt/anaconda3/lib/python3.7/site-packages (from cycler>=0.10->matplotlib) (1.12.0)\n",
      "Requirement already satisfied: setuptools in /Users/yjtseng/opt/anaconda3/lib/python3.7/site-packages (from kiwisolver>=1.0.1->matplotlib) (41.4.0)\n",
      "Requirement already satisfied: joblib>=0.11 in /Users/yjtseng/opt/anaconda3/lib/python3.7/site-packages (from scikit-learn->sklearn) (0.13.2)\n"
     ]
    }
   ],
   "source": [
    "# 安裝模組\n",
    "import sys\n",
    "!{sys.executable} -m pip install numpy matplotlib pandas sklearn seaborn"
   ]
  },
  {
   "cell_type": "markdown",
   "metadata": {
    "slideshow": {
     "slide_type": "slide"
    }
   },
   "source": [
    "# 資料視覺化\n",
    "## 長庚大學"
   ]
  },
  {
   "cell_type": "markdown",
   "metadata": {
    "slideshow": {
     "slide_type": "slide"
    }
   },
   "source": [
    "## 資料視覺化簡介\n",
    "\n",
    "- 運用視覺的方式呈現數據\n",
    "- 將繁雜的數據簡化成為易於吸收的內容\n",
    "- 辨別數據的規律(Patterns)、趨勢(Trends)及關聯(Correlations)"
   ]
  },
  {
   "cell_type": "markdown",
   "metadata": {
    "slideshow": {
     "slide_type": "slide"
    }
   },
   "source": [
    "## 為什麼需要視覺化?\n",
    "\n",
    "- 人類大腦吸收圖像的速度是文字的**60,000**倍\n",
    "- **90%**的資訊是透過視覺傳達到大腦\n",
    "- 人類能吸收**80%**的圖像，但只能吸收20%的文字\n",
    "- 有圖像的網站比只有文字內容的網站多了**94％**的瀏覽率\n",
    "\n",
    "[參考資料](https://www.fastcompany.com/3035856/why-were-more-likely-to-remember-content-with-images-and-video-infogr)"
   ]
  },
  {
   "cell_type": "markdown",
   "metadata": {
    "slideshow": {
     "slide_type": "slide"
    }
   },
   "source": [
    "## 視覺化目的"
   ]
  },
  {
   "cell_type": "markdown",
   "metadata": {
    "slideshow": {
     "slide_type": "slide"
    }
   },
   "source": [
    "## 視覺化方法指引\n",
    "\n",
    "辨別\n",
    "- 規律(Patterns)\n",
    "- 趨勢(Trends)\n",
    "- 關聯(Correlations)"
   ]
  },
  {
   "cell_type": "markdown",
   "metadata": {
    "slideshow": {
     "slide_type": "slide"
    }
   },
   "source": [
    "## matplotlib套件簡介\n",
    "\n",
    "<img src=\"https://matplotlib.org/_static/logo2_compressed.svg\" alt=\"Logo\" width=\"300\"/>\n",
    "\n",
    "- 需先安裝 **matplotlib**\n",
    "- `pip install matplotlib`"
   ]
  },
  {
   "cell_type": "code",
   "execution_count": null,
   "metadata": {
    "slideshow": {
     "slide_type": "fragment"
    }
   },
   "outputs": [
    {
     "name": "stderr",
     "output_type": "stream",
     "text": [
      "Matplotlib is building the font cache using fc-list. This may take a moment.\n"
     ]
    }
   ],
   "source": [
    "# 引入模組\n",
    "import matplotlib.pyplot as plt"
   ]
  },
  {
   "cell_type": "markdown",
   "metadata": {
    "slideshow": {
     "slide_type": "slide"
    }
   },
   "source": [
    "## 製作各類圖形\n",
    "- 載入iris 與 ? 資料\n",
    "- 一維視覺化\n",
    "    - 直方圖 `hist()`\n",
    "- 二維視覺化\n",
    "    - 散佈圖 `scatter()`\n",
    "    - 折線圖 `plot()`\n",
    "    - 長條圖 `bar()`\n",
    "    - 盒鬚圖 `boxplot()`\n",
    "    - 圓餅圖 `pie()` \n",
    "- 調整圖形樣式參數\n",
    "- 多維視覺化"
   ]
  },
  {
   "cell_type": "markdown",
   "metadata": {
    "slideshow": {
     "slide_type": "slide"
    }
   },
   "source": [
    "### 載入iris 與 ? 資料\n",
    "\n",
    "- 需先安裝 **sklearn**\n",
    "- `pip install sklearn`\n",
    "- 使用`datasets.load_iris()`載入套件內的iris資料\n",
    "- 資料欄位為萼片(sepal)長度、寬度，花瓣(petal)長度、寬度"
   ]
  },
  {
   "cell_type": "code",
   "execution_count": null,
   "metadata": {
    "slideshow": {
     "slide_type": "fragment"
    }
   },
   "outputs": [],
   "source": [
    "from sklearn import datasets\n",
    "iris = datasets.load_iris()"
   ]
  },
  {
   "cell_type": "code",
   "execution_count": null,
   "metadata": {
    "slideshow": {
     "slide_type": "subslide"
    }
   },
   "outputs": [],
   "source": [
    "print(iris['DESCR']) #預覽資料"
   ]
  },
  {
   "cell_type": "markdown",
   "metadata": {
    "slideshow": {
     "slide_type": "slide"
    }
   },
   "source": [
    "### 一維: 直方圖 \n",
    "欲知萼片長度(sepal length)的資料分布"
   ]
  },
  {
   "cell_type": "code",
   "execution_count": null,
   "metadata": {
    "slideshow": {
     "slide_type": "-"
    }
   },
   "outputs": [],
   "source": [
    "plt.hist(iris.data[:,1])\n",
    "plt.show()"
   ]
  },
  {
   "cell_type": "markdown",
   "metadata": {
    "slideshow": {
     "slide_type": "slide"
    }
   },
   "source": [
    "### 二維: 散佈圖 scatter() \n",
    "\n",
    "欲知欲知萼片長度(sepal length)以及萼片寬度(sepal width)是否有相關性"
   ]
  },
  {
   "cell_type": "code",
   "execution_count": null,
   "metadata": {
    "slideshow": {
     "slide_type": "-"
    }
   },
   "outputs": [],
   "source": [
    "plt.scatter(iris.data[:,1],iris.data[:,2])\n",
    "plt.show()"
   ]
  },
  {
   "cell_type": "markdown",
   "metadata": {
    "slideshow": {
     "slide_type": "slide"
    }
   },
   "source": [
    "### 二維: 折線圖 scatter() \n",
    "\n",
    "欲知欲知萼片長度(sepal length)以及萼片寬度(sepal width)是否有相關性"
   ]
  },
  {
   "cell_type": "code",
   "execution_count": null,
   "metadata": {},
   "outputs": [],
   "source": [
    "# 使用月份當做X軸資料\n",
    "\n",
    "month = [1,2,3,4,5,6,7,8,9,10,11,12]\n",
    "\n",
    "# 使用台G電的某年每月收盤價當第一條線的資料\n",
    "\n",
    "stock_tsmcc = [255,246,247.5,227,224,216.5,246,256,262.5,234,225.5,225.5]\n",
    "\n",
    "# 使用紅海的某年每月收盤價當第二條線的資料\n",
    "\n",
    "stock_foxconnn = [92.2,88.1,88.5,82.9,85.7,83.2,83.8,80.5,79.2,78.8,71.9,70.8]\n",
    "\n",
    "plt.plot(month, stock_tsmcc)\n",
    "plt.show()"
   ]
  },
  {
   "cell_type": "code",
   "execution_count": null,
   "metadata": {
    "slideshow": {
     "slide_type": "slide"
    }
   },
   "outputs": [],
   "source": [
    "# 同時將紅海的某年每月收盤價畫在同一張圖上\n",
    "\n",
    "stock_foxconnn = [92.2,88.1,88.5,82.9,85.7,83.2,83.8,80.5,79.2,78.8,71.9,70.8]\n",
    "\n",
    "plt.plot(month, stock_tsmcc,color=\"blue\")\n",
    "plt.plot(month, stock_foxconnn,color=\"red\")\n",
    "plt.show()"
   ]
  },
  {
   "cell_type": "markdown",
   "metadata": {
    "slideshow": {
     "slide_type": "slide"
    }
   },
   "source": [
    "### 二維: 長條圖 bar() \n",
    "\n",
    "欲知欲知萼片長度(sepal length)以及萼片寬度(sepal width)是否有相關性"
   ]
  },
  {
   "cell_type": "code",
   "execution_count": null,
   "metadata": {},
   "outputs": [],
   "source": [
    " # 引入模組\n",
    "import numpy as np\n",
    "labels = ['Physics', 'Chemistry', 'Literature', 'Peace']\n",
    "foo_data = [3, 6, 10, 4]\n",
    "bar_width = 0.5\n",
    "xlocations = np.array(range(len(foo_data))) + bar_width\n",
    "\n",
    "plt.bar(xlocations, foo_data, width=bar_width)\n",
    "\n",
    "plt.title('Stock Price')\n",
    "plt.show()"
   ]
  },
  {
   "cell_type": "markdown",
   "metadata": {
    "slideshow": {
     "slide_type": "slide"
    }
   },
   "source": [
    "### 二維: 盒鬚圖 boxplot() \n",
    "\n",
    "欲知欲知萼片長度(sepal length)以及萼片寬度(sepal width)是否有相關性"
   ]
  },
  {
   "cell_type": "code",
   "execution_count": null,
   "metadata": {},
   "outputs": [],
   "source": [
    "# 盒鬚圖\n",
    "normal_examples = np.random.normal(size = 100) # 生成 100 組標準常態分配（平均值為 0，標準差為 1 的常態分配）隨機變數\n",
    "\n",
    "plt.boxplot(normal_examples)\n",
    "plt.show()"
   ]
  },
  {
   "cell_type": "markdown",
   "metadata": {},
   "source": [
    "### 二維: 圓餅圖 pie() \n",
    "\n",
    "欲知欲知萼片長度(sepal length)以及萼片寬度(sepal width)是否有相關性"
   ]
  },
  {
   "cell_type": "code",
   "execution_count": null,
   "metadata": {},
   "outputs": [],
   "source": [
    "# 圓餅圖\n",
    "data = np.random.randint(1, 11, 5) # 生成\n",
    "x = np.arange(len(data))\n",
    "plt.pie(data)\n",
    "plt.show()"
   ]
  },
  {
   "cell_type": "markdown",
   "metadata": {
    "slideshow": {
     "slide_type": "slide"
    }
   },
   "source": [
    "## 調整圖形樣式參數\n",
    "\n",
    "- 顏色\n",
    "- 點的樣式\n",
    "- 線的樣式\n",
    "- 圖例\n",
    "- XY軸的名字\n",
    "- 標題"
   ]
  },
  {
   "cell_type": "code",
   "execution_count": null,
   "metadata": {
    "slideshow": {
     "slide_type": "slide"
    }
   },
   "outputs": [],
   "source": [
    "# 設定圖片大小為長15、寬10\n",
    "\n",
    "plt.figure(figsize=(15,10),dpi=100,linewidth = 2)\n",
    "\n",
    "# 把資料放進來並指定對應的X軸、Y軸的資料，用方形做標記(s-)，並指定線條顏色為紅色，使用label標記線條含意\n",
    "\n",
    "plt.plot(month,stock_tsmcc,'s-',color = 'r', label=\"TSMC\")\n",
    "\n",
    "# 把資料放進來並指定對應的X軸、Y軸的資料 用圓形做標記(o-)，並指定線條顏色為綠色、使用label標記線條含意\n",
    "\n",
    "plt.plot(month,stock_foxconnn,'o-',color = 'g', label=\"FOXCONN\")\n",
    "\n",
    " \n",
    "\n",
    "# 設定圖片標題，以及指定字型設定，x代表與圖案最左側的距離，y代表與圖片的距離\n",
    "\n",
    "plt.title(\"Python 畫折線圖(Line chart)範例\", fontproperties=myfont, x=0.5, y=1.03)\n",
    "\n",
    "# 设置刻度字体大小\n",
    "\n",
    "plt.xticks(fontsize=20)\n",
    "\n",
    "plt.yticks(fontsize=20)\n",
    "\n",
    "# 標示x軸(labelpad代表與圖片的距離)\n",
    "\n",
    "plt.xlabel(\"month\", fontsize=30, labelpad = 15)\n",
    "\n",
    "# 標示y軸(labelpad代表與圖片的距離)\n",
    "\n",
    "plt.ylabel(\"price\", fontsize=30, labelpad = 20)\n",
    "\n",
    "# 顯示出線條標記位置\n",
    "\n",
    "plt.legend(loc = \"best\", fontsize=20)\n",
    "# 避免被圖表元素被蓋住\n",
    "plt.tight_layout()\n",
    "\n",
    "# 畫出圖片\n",
    "\n",
    "plt.show()"
   ]
  },
  {
   "cell_type": "markdown",
   "metadata": {
    "slideshow": {
     "slide_type": "slide"
    }
   },
   "source": [
    "## 圖形匯出與分享"
   ]
  },
  {
   "cell_type": "code",
   "execution_count": null,
   "metadata": {},
   "outputs": [],
   "source": [
    "# 儲存圖表\n",
    "plt.savefig('plt.svg')"
   ]
  }
 ],
 "metadata": {
  "celltoolbar": "Slideshow",
  "kernelspec": {
   "display_name": "Python 3",
   "language": "python",
   "name": "python3"
  },
  "language_info": {
   "codemirror_mode": {
    "name": "ipython",
    "version": 3
   },
   "file_extension": ".py",
   "mimetype": "text/x-python",
   "name": "python",
   "nbconvert_exporter": "python",
   "pygments_lexer": "ipython3",
   "version": "3.7.4"
  }
 },
 "nbformat": 4,
 "nbformat_minor": 4
}
