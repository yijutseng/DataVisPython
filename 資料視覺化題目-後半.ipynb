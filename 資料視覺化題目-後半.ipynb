{
 "cells": [
  {
   "cell_type": "markdown",
   "metadata": {},
   "source": [
    "# 資料視覺化 練習題\n",
    "\n",
    "首先使用pandas套件的read_csv()函數將Shunyi測站的csv資料載入Python"
   ]
  },
  {
   "cell_type": "code",
   "execution_count": 3,
   "metadata": {},
   "outputs": [],
   "source": [
    "#載入套件與作圖所需資料\n",
    "import matplotlib.pyplot as plt\n",
    "import seaborn as sns\n",
    "import pandas as pd \n",
    "import calmap\n",
    "# Beijing air pollution data downloaded in \n",
    "# https://archive.ics.uci.edu/ml/datasets/Beijing+Multi-Site+Air-Quality+Data\n",
    "#''中請取代為操作環境之檔案路徑\n",
    "df = pd.read_csv('Data/PRSA_Data_Shunyi_20130301-20170228.csv') "
   ]
  },
  {
   "cell_type": "markdown",
   "metadata": {},
   "source": [
    "1. 請用長條圖方式呈現北京空氣監測資料中Shunyi測站在2016年各風向出現次數"
   ]
  },
  {
   "cell_type": "code",
   "execution_count": null,
   "metadata": {},
   "outputs": [],
   "source": []
  },
  {
   "cell_type": "markdown",
   "metadata": {},
   "source": [
    "2. 請用長條圖方式呈現北京空氣監測資料中Shunyi測站在2016年各風向出現次數，並將出現次數最多的風向放在x軸的最左邊"
   ]
  },
  {
   "cell_type": "code",
   "execution_count": null,
   "metadata": {},
   "outputs": [],
   "source": []
  },
  {
   "cell_type": "markdown",
   "metadata": {},
   "source": [
    "3. 請用圓餅圖方式呈現北京空氣監測資料中Shunyi測站在2016年各風向出現次數"
   ]
  },
  {
   "cell_type": "code",
   "execution_count": null,
   "metadata": {},
   "outputs": [],
   "source": []
  },
  {
   "cell_type": "markdown",
   "metadata": {},
   "source": [
    "4. 請用熱度圖呈現北京空氣監測資料中Shunyi測站在2016年1月各時間的PM2.5、NO2、CO濃度以及氣溫TEMP數值"
   ]
  },
  {
   "cell_type": "code",
   "execution_count": null,
   "metadata": {},
   "outputs": [],
   "source": []
  },
  {
   "cell_type": "markdown",
   "metadata": {},
   "source": [
    "5. 請用熱度圖呈現北京空氣監測資料中Shunyi測站在2016年1月**每日**的PM2.5、NO2、CO濃度數值。此題須先將每個小時的資料取平均，轉為每日資料。"
   ]
  },
  {
   "cell_type": "code",
   "execution_count": null,
   "metadata": {},
   "outputs": [],
   "source": []
  },
  {
   "cell_type": "markdown",
   "metadata": {},
   "source": [
    "6. 請用熱度圖呈現北京空氣監測資料中Shunyi測站在2016年1月各時間的PM2.5、NO2、CO濃度以及氣溫TEMP數值，並試著修改圖形顏色"
   ]
  },
  {
   "cell_type": "code",
   "execution_count": null,
   "metadata": {},
   "outputs": [],
   "source": []
  },
  {
   "cell_type": "markdown",
   "metadata": {},
   "source": [
    "7. 請用月曆熱度圖視覺化呈現北京空氣監測資料中Shunyi測站在2015年NO2濃度的變化，並觀察NO2濃度的變化趨勢"
   ]
  },
  {
   "cell_type": "code",
   "execution_count": null,
   "metadata": {},
   "outputs": [],
   "source": []
  },
  {
   "cell_type": "markdown",
   "metadata": {},
   "source": [
    "8. 請用月曆熱度圖視覺化呈現北京空氣監測資料中Shunyi測站在2016年PM10濃度的變化，並觀察PM10濃度的變化趨勢"
   ]
  },
  {
   "cell_type": "code",
   "execution_count": null,
   "metadata": {},
   "outputs": [],
   "source": []
  },
  {
   "cell_type": "markdown",
   "metadata": {},
   "source": [
    "9. 請用月曆熱度圖視覺化呈現北京空氣監測資料中Shunyi測站在2014年NO濃度的變化，並觀察NO濃度的變化趨勢"
   ]
  },
  {
   "cell_type": "code",
   "execution_count": null,
   "metadata": {},
   "outputs": [],
   "source": []
  },
  {
   "cell_type": "markdown",
   "metadata": {},
   "source": [
    "10. 請用折線圖呈現北京空氣監測資料中Shunyi測站在2016年PM10濃度每小時的變化，折線圖線條顏色設定為綠色，並用三角形點出所有濃度點"
   ]
  },
  {
   "cell_type": "code",
   "execution_count": null,
   "metadata": {},
   "outputs": [],
   "source": []
  },
  {
   "cell_type": "markdown",
   "metadata": {},
   "source": [
    "11. 請用折線圖呈現北京空氣監測資料中Shunyi測站在2016年PM2.5以及PM10濃度每小時的變化，PM2.5濃度使用實線表示，PM10濃度使用虛線表示"
   ]
  },
  {
   "cell_type": "code",
   "execution_count": null,
   "metadata": {},
   "outputs": [],
   "source": []
  },
  {
   "cell_type": "markdown",
   "metadata": {},
   "source": [
    "12. 請用折線圖呈現北京空氣監測資料中Shunyi測站在2016年PM10濃度每小時的變化，並將XY軸的標籤根據題目修改"
   ]
  },
  {
   "cell_type": "code",
   "execution_count": null,
   "metadata": {},
   "outputs": [],
   "source": []
  },
  {
   "cell_type": "markdown",
   "metadata": {},
   "source": [
    "13. 請用盒鬚圖比較與呈現北京空氣監測資料中Shunyi測站在2016年**每月**PM10濃度的分佈"
   ]
  },
  {
   "cell_type": "code",
   "execution_count": null,
   "metadata": {},
   "outputs": [],
   "source": []
  },
  {
   "cell_type": "markdown",
   "metadata": {},
   "source": [
    "14. 請用盒鬚圖比較與呈現北京空氣監測資料中Shunyi測站在2016年PM2.5、PM10以及NO濃度的分佈"
   ]
  },
  {
   "cell_type": "code",
   "execution_count": null,
   "metadata": {},
   "outputs": [],
   "source": []
  },
  {
   "cell_type": "markdown",
   "metadata": {},
   "source": [
    "15. 請問盒鬚圖的長方形上緣與下緣各代表什麼統計值？"
   ]
  },
  {
   "cell_type": "code",
   "execution_count": null,
   "metadata": {},
   "outputs": [],
   "source": []
  }
 ],
 "metadata": {
  "kernelspec": {
   "display_name": "Python 3",
   "language": "python",
   "name": "python3"
  },
  "language_info": {
   "codemirror_mode": {
    "name": "ipython",
    "version": 3
   },
   "file_extension": ".py",
   "mimetype": "text/x-python",
   "name": "python",
   "nbconvert_exporter": "python",
   "pygments_lexer": "ipython3",
   "version": "3.7.4"
  }
 },
 "nbformat": 4,
 "nbformat_minor": 2
}
